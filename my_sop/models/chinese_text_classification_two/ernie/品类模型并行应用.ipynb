{
 "cells": [
  {
   "cell_type": "code",
   "execution_count": 2,
   "id": "746913b7",
   "metadata": {},
   "outputs": [],
   "source": [
    "# coding=utf-8\n",
    "import sys\n",
    "from os.path import abspath, join, dirname, exists\n",
    "import pandas as pd\n",
    "import numpy as np\n",
    "import re\n",
    "from tqdm import tqdm\n",
    "import time\n",
    "import jieba\n",
    "import random\n",
    "import csv\n",
    "import difflib\n",
    "import ast\n",
    "import json\n",
    "import nest_asyncio\n",
    "\n",
    "sys.path.insert(0, join(abspath(dirname('__file__')), '../../../'))\n",
    "\n",
    "import application as app\n",
    "from chatgpt import gpt_utils\n",
    "from extensions import utils\n",
    "\n",
    "from models.analyze.analyze_tool import used_time\n",
    "from models.nlp.common import text_normalize\n",
    "from models.analyze.trie import Trie\n",
    "from models.tiktok.video_common import *"
   ]
  },
  {
   "cell_type": "code",
   "execution_count": 3,
   "id": "e37a6c46",
   "metadata": {},
   "outputs": [
    {
     "name": "stdout",
     "output_type": "stream",
     "text": [
      "Connect db 10.21.90.164 douyin2\n",
      "Connect clickhouse 10.21.90.164 sop\n"
     ]
    },
    {
     "data": {
      "text/plain": [
       "<clickhouse_driver.client.Client at 0x7f9312f51250>"
      ]
     },
     "execution_count": 3,
     "metadata": {},
     "output_type": "execute_result"
    }
   ],
   "source": [
    "dy2 = app.connect_db('dy2')\n",
    "\n",
    "db_sop = app.get_clickhouse('chsop')\n",
    "db_sop.connect()"
   ]
  },
  {
   "cell_type": "code",
   "execution_count": 4,
   "id": "7efb3b1b",
   "metadata": {},
   "outputs": [],
   "source": [
    "categorynm = '运动鞋/运动穿搭'\n",
    "cat = 3000003\n",
    "subcid = 0"
   ]
  },
  {
   "cell_type": "code",
   "execution_count": 5,
   "id": "88aa9f67",
   "metadata": {},
   "outputs": [
    {
     "name": "stderr",
     "output_type": "stream",
     "text": [
      "\u001b[32m[2023-12-12 16:34:36,813] [    INFO]\u001b[0m - We are using <class 'paddlenlp.transformers.ernie.tokenizer.ErnieTokenizer'> to load './models/3000003/export'.\u001b[0m\n",
      "W1212 16:34:37.020805 145957 gpu_resources.cc:119] Please NOTE: device: 0, GPU Compute Capability: 8.6, Driver API Version: 11.2, Runtime API Version: 11.2\n",
      "W1212 16:34:37.023361 145957 gpu_resources.cc:149] device: 0, cuDNN Version: 8.1.\n",
      "\u001b[32m[2023-12-12 16:34:39,421] [    INFO]\u001b[0m - Load id2label from ./models/3000003/export/id2label.json.\u001b[0m\n"
     ]
    }
   ],
   "source": [
    "from paddlenlp import Taskflow\n",
    "\n",
    "cls = Taskflow(\"text_classification\", task_path=f'./models/{cat}/export', is_static_model=True)"
   ]
  },
  {
   "cell_type": "code",
   "execution_count": 6,
   "id": "2d50075c",
   "metadata": {},
   "outputs": [
    {
     "data": {
      "text/plain": [
       "[{'predictions': [{'label': '不是运动穿搭', 'score': 0.9998054860617097}],\n",
       "  'text': '2023,那就把3个头像捏在一起吧!#抖音年度榜单 #手工diy #泥巴玩偶 #元旦快乐 抖音年度榜单;手工diy;泥巴玩偶;元旦快乐'}]"
      ]
     },
     "execution_count": 6,
     "metadata": {},
     "output_type": "execute_result"
    }
   ],
   "source": [
    "cls(\"2023,那就把3个头像捏在一起吧!#抖音年度榜单 #手工diy #泥巴玩偶 #元旦快乐 抖音年度榜单;手工diy;泥巴玩偶;元旦快乐\")"
   ]
  },
  {
   "cell_type": "code",
   "execution_count": 4,
   "id": "a4319f46",
   "metadata": {},
   "outputs": [],
   "source": [
    "def get_data(awmids, multi_tasks = [1, 2, 3, 12, 14], prefix='', category='6'):\n",
    "    multi_data = {}\n",
    "    # multi_data: [Dict[aweme_id, Dict[task, List[txt, *info]]]]\n",
    "    ids = ','.join(awmids)\n",
    "    for task in multi_tasks:\n",
    "        sql = data_sql[task].format(version=prefix, category=category, ids=ids)\n",
    "        if task == 11:\n",
    "            dataa = db_sop.query_all(sql, print_sql=False)\n",
    "        else:\n",
    "            dataa = dy2.query_all(sql)\n",
    "        for aweme_id, *info in dataa:\n",
    "            if multi_data.get(aweme_id) is None:\n",
    "                multi_data[aweme_id] = {task: [] for task in multi_tasks}\n",
    "            multi_data[aweme_id][task].append(info)\n",
    "\n",
    "    return multi_data\n",
    "\n",
    "def get_data_source(dy2, cat, prefix=''):\n",
    "    tblnm = f\"douyin_video_zl{prefix}_{cat}\"\n",
    "    sql = f\"select data_source from {project_table} where table_name='{tblnm}';\"\n",
    "    rr = dy2.query_all(sql)\n",
    "    return rr[0][0] if rr[0][0] else None\n",
    "\n",
    "def get_project_cat(dy2, category, prefix):\n",
    "    tbl_nm = f\"douyin_video_zl{prefix}_{category}\"\n",
    "    sql = f'''\n",
    "    select brand, prop from douyin2_cleaner.project\n",
    "    where table_name='{tbl_nm}'\n",
    "    '''\n",
    "    rr = dy2.query_all(sql)\n",
    "    if not rr:\n",
    "        return category, category\n",
    "    else:\n",
    "        brand = rr[0][0] if rr[0][0] else category\n",
    "        prop = rr[0][1] if rr[0][1] else category\n",
    "        return brand, prop"
   ]
  },
  {
   "cell_type": "code",
   "execution_count": 5,
   "id": "1674d356",
   "metadata": {},
   "outputs": [],
   "source": [
    "def split_id(dy2,run_table, col, split):\n",
    "    sql = f\"select count(distinct {col}) from {run_table}\"\n",
    "    data = dy2.query_all(sql)\n",
    "    count = data[0][0] if len(data) > 0 else 0\n",
    "    batch_size = count // split\n",
    "    current_index = 0\n",
    "    durations = []\n",
    "    while current_index < count:\n",
    "        sql = f\"select {col} from {run_table} order by {col} limit {current_index}, 1;\"\n",
    "        aweme_id = dy2.query_all(sql)[0][0]\n",
    "        durations.append(aweme_id)\n",
    "        current_index += batch_size\n",
    "    durations[0] = 0\n",
    "    durations[-1] = -1\n",
    "    return [(durations[index], durations[index + 1]) for index in range(len(durations)-1)]"
   ]
  },
  {
   "cell_type": "code",
   "execution_count": 6,
   "id": "12a6ad7b",
   "metadata": {},
   "outputs": [],
   "source": [
    "def count_chars(s):\n",
    "    chinese_chars = 0\n",
    "    english_chars = 0\n",
    "    if not s:\n",
    "        raise ValueError(\"error\")\n",
    "\n",
    "    for char in s:\n",
    "        if char.isalpha():\n",
    "            if char.isascii():\n",
    "                english_chars += 1\n",
    "            else:\n",
    "                chinese_chars += 1\n",
    "\n",
    "    return chinese_chars/len(s)"
   ]
  },
  {
   "cell_type": "code",
   "execution_count": 7,
   "id": "57560455",
   "metadata": {},
   "outputs": [
    {
     "name": "stdout",
     "output_type": "stream",
     "text": [
      "data_type None\n"
     ]
    }
   ],
   "source": [
    "split = 4\n",
    "seperate = 0\n",
    "\n",
    "multi_tasks = [1, 2, 3, 14]\n",
    "task_names = [type2name[task] for task in multi_tasks]\n",
    "\n",
    "brand_cat, prop_cat = get_project_cat(dy2, cat, '')\n",
    "data_type = get_data_source(dy2, cat)\n",
    "print('data_type', data_type)\n",
    "if data_type in (2, 3):\n",
    "    multi_tasks = [1,]\n",
    "    data_sql.update(xiaohongshu_data_sql)"
   ]
  },
  {
   "cell_type": "code",
   "execution_count": 8,
   "id": "0d1e3658",
   "metadata": {},
   "outputs": [],
   "source": [
    "awm_tbl = f'douyin2_cleaner.awms_douyin_tmpp_{cat}'\n",
    "awm_rlt_tbl = f'douyin2_cleaner.awms_douyin_result_{cat}'\n",
    "rlt_cols = ['aweme_id','`type`','label','confidence']\n",
    "\n",
    "if data_type in (2, 3):\n",
    "    awm_tbl = f'douyin2_cleaner.awms_xhs_tmpp_{cat}'\n",
    "    awm_rlt_tbl = f'douyin2_cleaner.awms_xhs_result_{cat}'"
   ]
  },
  {
   "cell_type": "code",
   "execution_count": null,
   "id": "74d294f5",
   "metadata": {},
   "outputs": [],
   "source": [
    "labeltoid = {f'不是{categorynm}':0, '{categorynm}':1}"
   ]
  },
  {
   "cell_type": "code",
   "execution_count": 9,
   "id": "c5ff4fe9",
   "metadata": {},
   "outputs": [],
   "source": [
    "start,end = split_id(dy2, awm_tbl, 'aweme_id', split)[seperate]\n",
    "\n",
    "start_condition = f\"aweme_id > {start}\"\n",
    "end_condition = f\"aweme_id <= {end}\" if end > 0 else \"1\""
   ]
  },
  {
   "cell_type": "code",
   "execution_count": 10,
   "id": "69b4416a",
   "metadata": {
    "collapsed": true
   },
   "outputs": [
    {
     "name": "stderr",
     "output_type": "stream",
     "text": [
      "100%|████████████████████████████████████████████████████████████████████| 146/146 [00:10<00:00, 13.93it/s]\n"
     ]
    },
    {
     "name": "stdout",
     "output_type": "stream",
     "text": [
      "start: 7183638589178121506  count: 0  total:10.90  average(1000):3.63\n"
     ]
    },
    {
     "name": "stderr",
     "output_type": "stream",
     "text": [
      "100%|████████████████████████████████████████████████████████████████████| 146/146 [00:13<00:00, 10.68it/s]\n"
     ]
    },
    {
     "name": "stdout",
     "output_type": "stream",
     "text": [
      "start: 7183970071658745088  count: 1  total:24.95  average(1000):4.16\n"
     ]
    },
    {
     "name": "stderr",
     "output_type": "stream",
     "text": [
      "100%|████████████████████████████████████████████████████████████████████| 146/146 [00:18<00:00,  7.85it/s]\n"
     ]
    },
    {
     "name": "stdout",
     "output_type": "stream",
     "text": [
      "start: 7184285518782369057  count: 2  total:43.96  average(1000):4.88\n"
     ]
    },
    {
     "name": "stderr",
     "output_type": "stream",
     "text": [
      "100%|████████████████████████████████████████████████████████████████████| 147/147 [00:18<00:00,  7.98it/s]\n"
     ]
    },
    {
     "name": "stdout",
     "output_type": "stream",
     "text": [
      "start: 7184568367095844096  count: 3  total:62.81  average(1000):5.23\n"
     ]
    },
    {
     "name": "stderr",
     "output_type": "stream",
     "text": [
      "100%|████████████████████████████████████████████████████████████████████| 146/146 [00:18<00:00,  7.94it/s]\n"
     ]
    },
    {
     "name": "stdout",
     "output_type": "stream",
     "text": [
      "start: 7184741982143548728  count: 4  total:81.59  average(1000):5.44\n"
     ]
    },
    {
     "name": "stderr",
     "output_type": "stream",
     "text": [
      "100%|████████████████████████████████████████████████████████████████████| 147/147 [00:18<00:00,  8.15it/s]\n"
     ]
    },
    {
     "name": "stdout",
     "output_type": "stream",
     "text": [
      "start: 7185059618446445827  count: 5  total:100.03  average(1000):5.56\n"
     ]
    },
    {
     "name": "stderr",
     "output_type": "stream",
     "text": [
      "100%|████████████████████████████████████████████████████████████████████| 148/148 [00:18<00:00,  8.11it/s]\n"
     ]
    },
    {
     "name": "stdout",
     "output_type": "stream",
     "text": [
      "start: 7185358101485325623  count: 6  total:118.65  average(1000):5.65\n"
     ]
    },
    {
     "name": "stderr",
     "output_type": "stream",
     "text": [
      "100%|████████████████████████████████████████████████████████████████████| 147/147 [00:18<00:00,  8.03it/s]\n"
     ]
    },
    {
     "name": "stdout",
     "output_type": "stream",
     "text": [
      "start: 7185525445310385411  count: 7  total:137.31  average(1000):5.72\n"
     ]
    },
    {
     "name": "stderr",
     "output_type": "stream",
     "text": [
      "100%|████████████████████████████████████████████████████████████████████| 146/146 [00:18<00:00,  8.03it/s]\n"
     ]
    },
    {
     "name": "stdout",
     "output_type": "stream",
     "text": [
      "start: 7185842143108386108  count: 8  total:155.90  average(1000):5.77\n"
     ]
    },
    {
     "name": "stderr",
     "output_type": "stream",
     "text": [
      "100%|████████████████████████████████████████████████████████████████████| 147/147 [00:18<00:00,  8.08it/s]\n"
     ]
    },
    {
     "name": "stdout",
     "output_type": "stream",
     "text": [
      "start: 7186147396693265723  count: 9  total:174.49  average(1000):5.82\n"
     ]
    },
    {
     "name": "stderr",
     "output_type": "stream",
     "text": [
      "100%|████████████████████████████████████████████████████████████████████| 146/146 [00:18<00:00,  8.08it/s]\n"
     ]
    },
    {
     "name": "stdout",
     "output_type": "stream",
     "text": [
      "start: 7186447714077494587  count: 10  total:192.92  average(1000):5.85\n"
     ]
    },
    {
     "name": "stderr",
     "output_type": "stream",
     "text": [
      "100%|████████████████████████████████████████████████████████████████████| 148/148 [00:18<00:00,  8.05it/s]\n"
     ]
    },
    {
     "name": "stdout",
     "output_type": "stream",
     "text": [
      "start: 7186596508622409018  count: 11  total:212.98  average(1000):5.92\n"
     ]
    },
    {
     "name": "stderr",
     "output_type": "stream",
     "text": [
      "100%|████████████████████████████████████████████████████████████████████| 148/148 [00:18<00:00,  8.08it/s]\n"
     ]
    },
    {
     "name": "stdout",
     "output_type": "stream",
     "text": [
      "start: 7186855130891816253  count: 12  total:232.43  average(1000):5.96\n"
     ]
    },
    {
     "name": "stderr",
     "output_type": "stream",
     "text": [
      "100%|████████████████████████████████████████████████████████████████████| 148/148 [00:18<00:00,  7.93it/s]\n"
     ]
    },
    {
     "name": "stdout",
     "output_type": "stream",
     "text": [
      "start: 7186978439168036134  count: 13  total:252.33  average(1000):6.01\n"
     ]
    },
    {
     "name": "stderr",
     "output_type": "stream",
     "text": [
      "100%|████████████████████████████████████████████████████████████████████| 148/148 [00:18<00:00,  8.05it/s]\n"
     ]
    },
    {
     "name": "stdout",
     "output_type": "stream",
     "text": [
      "start: 7187238341077781794  count: 14  total:271.93  average(1000):6.04\n"
     ]
    },
    {
     "name": "stderr",
     "output_type": "stream",
     "text": [
      "100%|████████████████████████████████████████████████████████████████████| 148/148 [00:18<00:00,  8.05it/s]\n"
     ]
    },
    {
     "name": "stdout",
     "output_type": "stream",
     "text": [
      "start: 7187388874400779557  count: 15  total:291.83  average(1000):6.08\n"
     ]
    },
    {
     "name": "stderr",
     "output_type": "stream",
     "text": [
      "100%|████████████████████████████████████████████████████████████████████| 147/147 [00:18<00:00,  8.15it/s]\n"
     ]
    },
    {
     "name": "stdout",
     "output_type": "stream",
     "text": [
      "start: 7187689187569667361  count: 16  total:311.20  average(1000):6.10\n"
     ]
    },
    {
     "name": "stderr",
     "output_type": "stream",
     "text": [
      "100%|████████████████████████████████████████████████████████████████████| 147/147 [00:17<00:00,  8.22it/s]\n"
     ]
    },
    {
     "name": "stdout",
     "output_type": "stream",
     "text": [
      "start: 7187990294812527932  count: 17  total:330.61  average(1000):6.12\n"
     ]
    },
    {
     "name": "stderr",
     "output_type": "stream",
     "text": [
      "100%|████████████████████████████████████████████████████████████████████| 147/147 [00:16<00:00,  8.68it/s]\n"
     ]
    },
    {
     "name": "stdout",
     "output_type": "stream",
     "text": [
      "start: 7188289994421751044  count: 18  total:349.06  average(1000):6.12\n"
     ]
    },
    {
     "name": "stderr",
     "output_type": "stream",
     "text": [
      "100%|████████████████████████████████████████████████████████████████████| 148/148 [00:17<00:00,  8.31it/s]\n"
     ]
    },
    {
     "name": "stdout",
     "output_type": "stream",
     "text": [
      "start: 7188501885647719717  count: 19  total:369.30  average(1000):6.15\n"
     ]
    },
    {
     "name": "stderr",
     "output_type": "stream",
     "text": [
      "100%|████████████████████████████████████████████████████████████████████| 148/148 [00:18<00:00,  8.17it/s]\n"
     ]
    },
    {
     "name": "stdout",
     "output_type": "stream",
     "text": [
      "start: 7188853996759682359  count: 20  total:388.73  average(1000):6.17\n"
     ]
    },
    {
     "name": "stderr",
     "output_type": "stream",
     "text": [
      "100%|████████████████████████████████████████████████████████████████████| 139/139 [00:16<00:00,  8.30it/s]\n"
     ]
    },
    {
     "name": "stdout",
     "output_type": "stream",
     "text": [
      "start: 7189068413661154617  count: 21  total:406.24  average(1000):6.16\n"
     ]
    },
    {
     "name": "stderr",
     "output_type": "stream",
     "text": [
      "100%|████████████████████████████████████████████████████████████████████| 139/139 [00:16<00:00,  8.30it/s]\n"
     ]
    },
    {
     "name": "stdout",
     "output_type": "stream",
     "text": [
      "start: 7189130232996187447  count: 22  total:423.60  average(1000):6.14\n"
     ]
    },
    {
     "name": "stderr",
     "output_type": "stream",
     "text": [
      "100%|████████████████████████████████████████████████████████████████████| 140/140 [00:16<00:00,  8.46it/s]\n"
     ]
    },
    {
     "name": "stdout",
     "output_type": "stream",
     "text": [
      "start: 7189190620034977024  count: 23  total:440.81  average(1000):6.12\n"
     ]
    },
    {
     "name": "stderr",
     "output_type": "stream",
     "text": [
      "100%|████████████████████████████████████████████████████████████████████| 140/140 [00:16<00:00,  8.26it/s]\n"
     ]
    },
    {
     "name": "stdout",
     "output_type": "stream",
     "text": [
      "start: 7189248728740531468  count: 24  total:458.56  average(1000):6.11\n"
     ]
    },
    {
     "name": "stderr",
     "output_type": "stream",
     "text": [
      "100%|████████████████████████████████████████████████████████████████████| 140/140 [00:20<00:00,  6.82it/s]\n"
     ]
    },
    {
     "name": "stdout",
     "output_type": "stream",
     "text": [
      "start: 7189461703065619745  count: 25  total:479.97  average(1000):6.15\n"
     ]
    },
    {
     "name": "stderr",
     "output_type": "stream",
     "text": [
      "100%|████████████████████████████████████████████████████████████████████| 141/141 [00:22<00:00,  6.33it/s]\n"
     ]
    },
    {
     "name": "stdout",
     "output_type": "stream",
     "text": [
      "start: 7189581238317927683  count: 26  total:503.47  average(1000):6.22\n"
     ]
    },
    {
     "name": "stderr",
     "output_type": "stream",
     "text": [
      "100%|████████████████████████████████████████████████████████████████████| 138/138 [00:22<00:00,  6.01it/s]\n"
     ]
    },
    {
     "name": "stdout",
     "output_type": "stream",
     "text": [
      "start: 7189821178175851816  count: 27  total:527.60  average(1000):6.28\n"
     ]
    },
    {
     "name": "stderr",
     "output_type": "stream",
     "text": [
      "100%|████████████████████████████████████████████████████████████████████| 142/142 [00:31<00:00,  4.53it/s]\n"
     ]
    },
    {
     "name": "stdout",
     "output_type": "stream",
     "text": [
      "start: 7189947235411496227  count: 28  total:560.25  average(1000):6.44\n"
     ]
    },
    {
     "name": "stderr",
     "output_type": "stream",
     "text": [
      "100%|████████████████████████████████████████████████████████████████████| 143/143 [00:39<00:00,  3.66it/s]\n"
     ]
    },
    {
     "name": "stdout",
     "output_type": "stream",
     "text": [
      "start: 7190264895441571106  count: 29  total:600.83  average(1000):6.68\n"
     ]
    },
    {
     "name": "stderr",
     "output_type": "stream",
     "text": [
      "100%|████████████████████████████████████████████████████████████████████| 143/143 [00:39<00:00,  3.61it/s]\n"
     ]
    },
    {
     "name": "stdout",
     "output_type": "stream",
     "text": [
      "start: 7190691260611431736  count: 30  total:642.53  average(1000):6.91\n"
     ]
    },
    {
     "name": "stderr",
     "output_type": "stream",
     "text": [
      "100%|████████████████████████████████████████████████████████████████████| 145/145 [00:39<00:00,  3.70it/s]\n"
     ]
    },
    {
     "name": "stdout",
     "output_type": "stream",
     "text": [
      "start: 7191247937324748047  count: 31  total:683.59  average(1000):7.12\n"
     ]
    },
    {
     "name": "stderr",
     "output_type": "stream",
     "text": [
      "100%|████████████████████████████████████████████████████████████████████| 145/145 [00:40<00:00,  3.60it/s]\n"
     ]
    },
    {
     "name": "stdout",
     "output_type": "stream",
     "text": [
      "start: 7191755798614166844  count: 32  total:725.52  average(1000):7.33\n"
     ]
    },
    {
     "name": "stderr",
     "output_type": "stream",
     "text": [
      "100%|████████████████████████████████████████████████████████████████████| 146/146 [00:39<00:00,  3.65it/s]\n"
     ]
    },
    {
     "name": "stdout",
     "output_type": "stream",
     "text": [
      "start: 7192236939242671419  count: 33  total:767.15  average(1000):7.52\n"
     ]
    },
    {
     "name": "stderr",
     "output_type": "stream",
     "text": [
      "100%|████████████████████████████████████████████████████████████████████| 145/145 [00:39<00:00,  3.66it/s]\n"
     ]
    },
    {
     "name": "stdout",
     "output_type": "stream",
     "text": [
      "start: 7192830129398123835  count: 34  total:808.61  average(1000):7.70\n"
     ]
    },
    {
     "name": "stderr",
     "output_type": "stream",
     "text": [
      "100%|████████████████████████████████████████████████████████████████████| 147/147 [00:40<00:00,  3.64it/s]\n"
     ]
    },
    {
     "name": "stdout",
     "output_type": "stream",
     "text": [
      "start: 7193279163585924392  count: 35  total:850.72  average(1000):7.88\n"
     ]
    },
    {
     "name": "stderr",
     "output_type": "stream",
     "text": [
      "100%|████████████████████████████████████████████████████████████████████| 146/146 [00:39<00:00,  3.71it/s]\n"
     ]
    },
    {
     "name": "stdout",
     "output_type": "stream",
     "text": [
      "start: 7193689552639298827  count: 36  total:891.87  average(1000):8.03\n"
     ]
    },
    {
     "name": "stderr",
     "output_type": "stream",
     "text": [
      "100%|████████████████████████████████████████████████████████████████████| 146/146 [00:40<00:00,  3.64it/s]\n"
     ]
    },
    {
     "name": "stdout",
     "output_type": "stream",
     "text": [
      "start: 7194092095395613992  count: 37  total:933.90  average(1000):8.19\n"
     ]
    },
    {
     "name": "stderr",
     "output_type": "stream",
     "text": [
      "100%|████████████████████████████████████████████████████████████████████| 145/145 [00:40<00:00,  3.56it/s]\n"
     ]
    },
    {
     "name": "stdout",
     "output_type": "stream",
     "text": [
      "start: 7194505918472555834  count: 38  total:976.38  average(1000):8.35\n"
     ]
    },
    {
     "name": "stderr",
     "output_type": "stream",
     "text": [
      "100%|████████████████████████████████████████████████████████████████████| 147/147 [00:40<00:00,  3.67it/s]\n"
     ]
    },
    {
     "name": "stdout",
     "output_type": "stream",
     "text": [
      "start: 7194851500588387639  count: 39  total:1018.29  average(1000):8.49\n"
     ]
    },
    {
     "name": "stderr",
     "output_type": "stream",
     "text": [
      "100%|████████████████████████████████████████████████████████████████████| 146/146 [00:39<00:00,  3.66it/s]\n"
     ]
    },
    {
     "name": "stdout",
     "output_type": "stream",
     "text": [
      "start: 7195196238583713081  count: 40  total:1059.91  average(1000):8.62\n"
     ]
    },
    {
     "name": "stderr",
     "output_type": "stream",
     "text": [
      "100%|████████████████████████████████████████████████████████████████████| 146/146 [00:40<00:00,  3.59it/s]\n"
     ]
    },
    {
     "name": "stdout",
     "output_type": "stream",
     "text": [
      "start: 7195546148168289568  count: 41  total:1102.32  average(1000):8.75\n"
     ]
    },
    {
     "name": "stderr",
     "output_type": "stream",
     "text": [
      "100%|████████████████████████████████████████████████████████████████████| 147/147 [00:40<00:00,  3.63it/s]\n"
     ]
    },
    {
     "name": "stdout",
     "output_type": "stream",
     "text": [
      "start: 7195885776935128353  count: 42  total:1144.45  average(1000):8.87\n"
     ]
    },
    {
     "name": "stderr",
     "output_type": "stream",
     "text": [
      "100%|████████████████████████████████████████████████████████████████████| 146/146 [00:39<00:00,  3.67it/s]\n"
     ]
    },
    {
     "name": "stdout",
     "output_type": "stream",
     "text": [
      "start: 7196236439942679863  count: 43  total:1185.70  average(1000):8.98\n"
     ]
    },
    {
     "name": "stderr",
     "output_type": "stream",
     "text": [
      "100%|████████████████████████████████████████████████████████████████████| 146/146 [00:40<00:00,  3.59it/s]\n"
     ]
    },
    {
     "name": "stdout",
     "output_type": "stream",
     "text": [
      "start: 7196611163281526075  count: 44  total:1228.49  average(1000):9.10\n"
     ]
    },
    {
     "name": "stderr",
     "output_type": "stream",
     "text": [
      "100%|████████████████████████████████████████████████████████████████████| 147/147 [00:41<00:00,  3.55it/s]\n"
     ]
    },
    {
     "name": "stdout",
     "output_type": "stream",
     "text": [
      "start: 7196975538928438586  count: 45  total:1271.52  average(1000):9.21\n"
     ]
    },
    {
     "name": "stderr",
     "output_type": "stream",
     "text": [
      "100%|████████████████████████████████████████████████████████████████████| 147/147 [00:39<00:00,  3.70it/s]\n"
     ]
    },
    {
     "name": "stdout",
     "output_type": "stream",
     "text": [
      "start: 7197316889998019898  count: 46  total:1312.91  average(1000):9.31\n"
     ]
    },
    {
     "name": "stderr",
     "output_type": "stream",
     "text": [
      "100%|████████████████████████████████████████████████████████████████████| 147/147 [00:40<00:00,  3.65it/s]\n"
     ]
    },
    {
     "name": "stdout",
     "output_type": "stream",
     "text": [
      "start: 7197645298636721408  count: 47  total:1354.91  average(1000):9.41\n"
     ]
    },
    {
     "name": "stderr",
     "output_type": "stream",
     "text": [
      "100%|████████████████████████████████████████████████████████████████████| 147/147 [00:40<00:00,  3.63it/s]\n"
     ]
    },
    {
     "name": "stdout",
     "output_type": "stream",
     "text": [
      "start: 7197950213519117608  count: 48  total:1397.09  average(1000):9.50\n"
     ]
    },
    {
     "name": "stderr",
     "output_type": "stream",
     "text": [
      "100%|████████████████████████████████████████████████████████████████████| 147/147 [00:39<00:00,  3.69it/s]\n"
     ]
    },
    {
     "name": "stdout",
     "output_type": "stream",
     "text": [
      "start: 7198129222655741184  count: 49  total:1438.42  average(1000):9.59\n"
     ]
    },
    {
     "name": "stderr",
     "output_type": "stream",
     "text": [
      "100%|████████████████████████████████████████████████████████████████████| 147/147 [00:40<00:00,  3.66it/s]\n"
     ]
    },
    {
     "name": "stdout",
     "output_type": "stream",
     "text": [
      "start: 7198443936199757114  count: 50  total:1480.25  average(1000):9.67\n"
     ]
    },
    {
     "name": "stderr",
     "output_type": "stream",
     "text": [
      "100%|████████████████████████████████████████████████████████████████████| 148/148 [00:40<00:00,  3.61it/s]\n"
     ]
    },
    {
     "name": "stdout",
     "output_type": "stream",
     "text": [
      "start: 7198741422978157859  count: 51  total:1522.68  average(1000):9.76\n"
     ]
    },
    {
     "name": "stderr",
     "output_type": "stream",
     "text": [
      "100%|████████████████████████████████████████████████████████████████████| 147/147 [00:40<00:00,  3.66it/s]\n"
     ]
    },
    {
     "name": "stdout",
     "output_type": "stream",
     "text": [
      "start: 7198929121299254585  count: 52  total:1564.24  average(1000):9.84\n"
     ]
    },
    {
     "name": "stderr",
     "output_type": "stream",
     "text": [
      "100%|████████████████████████████████████████████████████████████████████| 148/148 [00:39<00:00,  3.74it/s]\n"
     ]
    },
    {
     "name": "stdout",
     "output_type": "stream",
     "text": [
      "start: 7199214192560196925  count: 53  total:1605.08  average(1000):9.91\n"
     ]
    },
    {
     "name": "stderr",
     "output_type": "stream",
     "text": [
      "100%|████████████████████████████████████████████████████████████████████| 147/147 [00:40<00:00,  3.67it/s]\n"
     ]
    },
    {
     "name": "stdout",
     "output_type": "stream",
     "text": [
      "start: 7199508543706336567  count: 54  total:1646.47  average(1000):9.98\n"
     ]
    },
    {
     "name": "stderr",
     "output_type": "stream",
     "text": [
      "100%|████████████████████████████████████████████████████████████████████| 147/147 [00:41<00:00,  3.58it/s]\n"
     ]
    },
    {
     "name": "stdout",
     "output_type": "stream",
     "text": [
      "start: 7199730511906950458  count: 55  total:1689.03  average(1000):10.05\n"
     ]
    },
    {
     "name": "stderr",
     "output_type": "stream",
     "text": [
      "100%|████████████████████████████████████████████████████████████████████| 148/148 [00:40<00:00,  3.66it/s]\n"
     ]
    },
    {
     "name": "stdout",
     "output_type": "stream",
     "text": [
      "start: 7199948452267085071  count: 56  total:1731.06  average(1000):10.12\n"
     ]
    },
    {
     "name": "stderr",
     "output_type": "stream",
     "text": [
      "100%|████████████████████████████████████████████████████████████████████| 148/148 [00:39<00:00,  3.75it/s]\n"
     ]
    },
    {
     "name": "stdout",
     "output_type": "stream",
     "text": [
      "start: 7200241304398351671  count: 57  total:1771.97  average(1000):10.18\n"
     ]
    },
    {
     "name": "stderr",
     "output_type": "stream",
     "text": [
      "100%|████████████████████████████████████████████████████████████████████| 148/148 [00:40<00:00,  3.62it/s]\n"
     ]
    },
    {
     "name": "stdout",
     "output_type": "stream",
     "text": [
      "start: 7200430696152796454  count: 58  total:1814.38  average(1000):10.25\n"
     ]
    },
    {
     "name": "stderr",
     "output_type": "stream",
     "text": [
      "100%|████████████████████████████████████████████████████████████████████| 148/148 [00:40<00:00,  3.63it/s]\n"
     ]
    },
    {
     "name": "stdout",
     "output_type": "stream",
     "text": [
      "start: 7200689565420571919  count: 59  total:1856.53  average(1000):10.31\n"
     ]
    },
    {
     "name": "stderr",
     "output_type": "stream",
     "text": [
      "100%|████████████████████████████████████████████████████████████████████| 147/147 [00:39<00:00,  3.70it/s]\n"
     ]
    },
    {
     "name": "stdout",
     "output_type": "stream",
     "text": [
      "start: 7200978538349038905  count: 60  total:1897.75  average(1000):10.37\n"
     ]
    },
    {
     "name": "stderr",
     "output_type": "stream",
     "text": [
      "100%|████████████████████████████████████████████████████████████████████| 147/147 [00:40<00:00,  3.60it/s]\n"
     ]
    },
    {
     "name": "stdout",
     "output_type": "stream",
     "text": [
      "start: 7201183846992252163  count: 61  total:1940.07  average(1000):10.43\n"
     ]
    },
    {
     "name": "stderr",
     "output_type": "stream",
     "text": [
      "100%|████████████████████████████████████████████████████████████████████| 148/148 [00:39<00:00,  3.70it/s]\n"
     ]
    },
    {
     "name": "stdout",
     "output_type": "stream",
     "text": [
      "start: 7201434744951704888  count: 62  total:1981.54  average(1000):10.48\n"
     ]
    },
    {
     "name": "stderr",
     "output_type": "stream",
     "text": [
      "100%|████████████████████████████████████████████████████████████████████| 147/147 [00:38<00:00,  3.78it/s]\n"
     ]
    },
    {
     "name": "stdout",
     "output_type": "stream",
     "text": [
      "start: 7201746770479631627  count: 63  total:2021.93  average(1000):10.53\n"
     ]
    },
    {
     "name": "stderr",
     "output_type": "stream",
     "text": [
      "100%|████████████████████████████████████████████████████████████████████| 148/148 [00:40<00:00,  3.64it/s]\n"
     ]
    },
    {
     "name": "stdout",
     "output_type": "stream",
     "text": [
      "start: 7202058322957176075  count: 64  total:2064.33  average(1000):10.59\n"
     ]
    },
    {
     "name": "stderr",
     "output_type": "stream",
     "text": [
      "100%|████████████████████████████████████████████████████████████████████| 148/148 [00:39<00:00,  3.72it/s]\n"
     ]
    },
    {
     "name": "stdout",
     "output_type": "stream",
     "text": [
      "start: 7202215139754396940  count: 65  total:2105.63  average(1000):10.63\n"
     ]
    },
    {
     "name": "stderr",
     "output_type": "stream",
     "text": [
      "100%|████████████████████████████████████████████████████████████████████| 148/148 [00:41<00:00,  3.59it/s]\n"
     ]
    },
    {
     "name": "stdout",
     "output_type": "stream",
     "text": [
      "start: 7202520919254781239  count: 66  total:2148.27  average(1000):10.69\n"
     ]
    },
    {
     "name": "stderr",
     "output_type": "stream",
     "text": [
      "100%|████████████████████████████████████████████████████████████████████| 148/148 [00:40<00:00,  3.69it/s]\n"
     ]
    },
    {
     "name": "stdout",
     "output_type": "stream",
     "text": [
      "start: 7202818494130326784  count: 67  total:2189.96  average(1000):10.74\n"
     ]
    },
    {
     "name": "stderr",
     "output_type": "stream",
     "text": [
      "100%|████████████████████████████████████████████████████████████████████| 148/148 [00:39<00:00,  3.70it/s]\n"
     ]
    },
    {
     "name": "stdout",
     "output_type": "stream",
     "text": [
      "start: 7202993640686226743  count: 68  total:2231.64  average(1000):10.78\n"
     ]
    },
    {
     "name": "stderr",
     "output_type": "stream",
     "text": [
      "100%|████████████████████████████████████████████████████████████████████| 148/148 [00:39<00:00,  3.71it/s]\n"
     ]
    },
    {
     "name": "stdout",
     "output_type": "stream",
     "text": [
      "start: 7203276176012414208  count: 69  total:2272.88  average(1000):10.82\n"
     ]
    },
    {
     "name": "stderr",
     "output_type": "stream",
     "text": [
      "100%|████████████████████████████████████████████████████████████████████| 148/148 [00:41<00:00,  3.58it/s]\n"
     ]
    },
    {
     "name": "stdout",
     "output_type": "stream",
     "text": [
      "start: 7203559428707159296  count: 70  total:2315.78  average(1000):10.87\n"
     ]
    },
    {
     "name": "stderr",
     "output_type": "stream",
     "text": [
      "100%|████████████████████████████████████████████████████████████████████| 148/148 [00:40<00:00,  3.64it/s]\n"
     ]
    },
    {
     "name": "stdout",
     "output_type": "stream",
     "text": [
      "start: 7203710397512289571  count: 71  total:2358.01  average(1000):10.92\n"
     ]
    },
    {
     "name": "stderr",
     "output_type": "stream",
     "text": [
      "100%|████████████████████████████████████████████████████████████████████| 148/148 [00:39<00:00,  3.73it/s]\n"
     ]
    },
    {
     "name": "stdout",
     "output_type": "stream",
     "text": [
      "start: 7204014208474795324  count: 72  total:2399.01  average(1000):10.95\n"
     ]
    },
    {
     "name": "stderr",
     "output_type": "stream",
     "text": [
      "100%|████████████████████████████████████████████████████████████████████| 147/147 [00:40<00:00,  3.62it/s]\n"
     ]
    },
    {
     "name": "stdout",
     "output_type": "stream",
     "text": [
      "start: 7204312515818523919  count: 73  total:2441.06  average(1000):11.00\n"
     ]
    },
    {
     "name": "stderr",
     "output_type": "stream",
     "text": [
      "100%|████████████████████████████████████████████████████████████████████| 148/148 [00:40<00:00,  3.61it/s]\n"
     ]
    },
    {
     "name": "stdout",
     "output_type": "stream",
     "text": [
      "start: 7204620700999568701  count: 74  total:2483.63  average(1000):11.04\n"
     ]
    },
    {
     "name": "stderr",
     "output_type": "stream",
     "text": [
      "100%|████████████████████████████████████████████████████████████████████| 148/148 [00:40<00:00,  3.66it/s]\n"
     ]
    },
    {
     "name": "stdout",
     "output_type": "stream",
     "text": [
      "start: 7204777291795205436  count: 75  total:2525.43  average(1000):11.08\n"
     ]
    },
    {
     "name": "stderr",
     "output_type": "stream",
     "text": [
      "100%|████████████████████████████████████████████████████████████████████| 147/147 [00:38<00:00,  3.77it/s]\n"
     ]
    },
    {
     "name": "stdout",
     "output_type": "stream",
     "text": [
      "start: 7205054513496067363  count: 76  total:2565.72  average(1000):11.11\n"
     ]
    },
    {
     "name": "stderr",
     "output_type": "stream",
     "text": [
      "100%|████████████████████████████████████████████████████████████████████| 148/148 [00:40<00:00,  3.62it/s]\n"
     ]
    },
    {
     "name": "stdout",
     "output_type": "stream",
     "text": [
      "start: 7205206104970693892  count: 77  total:2608.03  average(1000):11.15\n"
     ]
    },
    {
     "name": "stderr",
     "output_type": "stream",
     "text": [
      "100%|████████████████████████████████████████████████████████████████████| 148/148 [00:40<00:00,  3.61it/s]\n"
     ]
    },
    {
     "name": "stdout",
     "output_type": "stream",
     "text": [
      "start: 7205478927874280716  count: 78  total:2650.23  average(1000):11.18\n"
     ]
    },
    {
     "name": "stderr",
     "output_type": "stream",
     "text": [
      "100%|████████████████████████████████████████████████████████████████████| 148/148 [00:39<00:00,  3.70it/s]\n"
     ]
    },
    {
     "name": "stdout",
     "output_type": "stream",
     "text": [
      "start: 7205742895947681059  count: 79  total:2691.54  average(1000):11.21\n"
     ]
    },
    {
     "name": "stderr",
     "output_type": "stream",
     "text": [
      "100%|████████████████████████████████████████████████████████████████████| 148/148 [00:40<00:00,  3.65it/s]\n"
     ]
    },
    {
     "name": "stdout",
     "output_type": "stream",
     "text": [
      "start: 7205901808164752675  count: 80  total:2733.46  average(1000):11.25\n"
     ]
    },
    {
     "name": "stderr",
     "output_type": "stream",
     "text": [
      "100%|████████████████████████████████████████████████████████████████████| 147/147 [00:40<00:00,  3.62it/s]\n"
     ]
    },
    {
     "name": "stdout",
     "output_type": "stream",
     "text": [
      "start: 7206188383230545212  count: 81  total:2775.61  average(1000):11.28\n"
     ]
    },
    {
     "name": "stderr",
     "output_type": "stream",
     "text": [
      "100%|████████████████████████████████████████████████████████████████████| 148/148 [00:40<00:00,  3.69it/s]\n"
     ]
    },
    {
     "name": "stdout",
     "output_type": "stream",
     "text": [
      "start: 7206328027955957029  count: 82  total:2817.04  average(1000):11.31\n"
     ]
    },
    {
     "name": "stderr",
     "output_type": "stream",
     "text": [
      "100%|████████████████████████████████████████████████████████████████████| 147/147 [00:39<00:00,  3.69it/s]\n"
     ]
    },
    {
     "name": "stdout",
     "output_type": "stream",
     "text": [
      "start: 7206596144351153466  count: 83  total:2858.13  average(1000):11.34\n"
     ]
    },
    {
     "name": "stderr",
     "output_type": "stream",
     "text": [
      "100%|████████████████████████████████████████████████████████████████████| 148/148 [00:41<00:00,  3.58it/s]\n"
     ]
    },
    {
     "name": "stdout",
     "output_type": "stream",
     "text": [
      "start: 7206861325518032188  count: 84  total:2900.86  average(1000):11.38\n"
     ]
    },
    {
     "name": "stderr",
     "output_type": "stream",
     "text": [
      "100%|████████████████████████████████████████████████████████████████████| 148/148 [00:40<00:00,  3.68it/s]\n"
     ]
    },
    {
     "name": "stdout",
     "output_type": "stream",
     "text": [
      "start: 7207006837344881981  count: 85  total:2942.33  average(1000):11.40\n"
     ]
    },
    {
     "name": "stderr",
     "output_type": "stream",
     "text": [
      "100%|████████████████████████████████████████████████████████████████████| 148/148 [00:40<00:00,  3.68it/s]\n"
     ]
    },
    {
     "name": "stdout",
     "output_type": "stream",
     "text": [
      "start: 7207277590502018315  count: 86  total:2983.86  average(1000):11.43\n"
     ]
    },
    {
     "name": "stderr",
     "output_type": "stream",
     "text": [
      "100%|████████████████████████████████████████████████████████████████████| 148/148 [00:40<00:00,  3.62it/s]\n"
     ]
    },
    {
     "name": "stdout",
     "output_type": "stream",
     "text": [
      "start: 7207401451042213178  count: 87  total:3026.25  average(1000):11.46\n"
     ]
    },
    {
     "name": "stderr",
     "output_type": "stream",
     "text": [
      "100%|████████████████████████████████████████████████████████████████████| 148/148 [00:40<00:00,  3.69it/s]\n"
     ]
    },
    {
     "name": "stdout",
     "output_type": "stream",
     "text": [
      "start: 7207668981874871607  count: 88  total:3067.75  average(1000):11.49\n"
     ]
    },
    {
     "name": "stderr",
     "output_type": "stream",
     "text": [
      "100%|████████████████████████████████████████████████████████████████████| 148/148 [00:40<00:00,  3.66it/s]\n"
     ]
    },
    {
     "name": "stdout",
     "output_type": "stream",
     "text": [
      "start: 7207801459239308582  count: 89  total:3109.34  average(1000):11.52\n"
     ]
    },
    {
     "name": "stderr",
     "output_type": "stream",
     "text": [
      "100%|████████████████████████████████████████████████████████████████████| 148/148 [00:41<00:00,  3.56it/s]\n"
     ]
    },
    {
     "name": "stdout",
     "output_type": "stream",
     "text": [
      "start: 7208071789878988047  count: 90  total:3152.07  average(1000):11.55\n"
     ]
    },
    {
     "name": "stderr",
     "output_type": "stream",
     "text": [
      "100%|████████████████████████████████████████████████████████████████████| 148/148 [00:40<00:00,  3.68it/s]\n"
     ]
    },
    {
     "name": "stdout",
     "output_type": "stream",
     "text": [
      "start: 7208350284039425317  count: 91  total:3193.49  average(1000):11.57\n"
     ]
    },
    {
     "name": "stderr",
     "output_type": "stream",
     "text": [
      "100%|████████████████████████████████████████████████████████████████████| 149/149 [00:40<00:00,  3.64it/s]\n"
     ]
    },
    {
     "name": "stdout",
     "output_type": "stream",
     "text": [
      "start: 7208491648274156856  count: 92  total:3235.96  average(1000):11.60\n"
     ]
    },
    {
     "name": "stderr",
     "output_type": "stream",
     "text": [
      "100%|████████████████████████████████████████████████████████████████████| 147/147 [00:41<00:00,  3.57it/s]\n"
     ]
    },
    {
     "name": "stdout",
     "output_type": "stream",
     "text": [
      "start: 7208760813249744160  count: 93  total:3278.51  average(1000):11.63\n"
     ]
    },
    {
     "name": "stderr",
     "output_type": "stream",
     "text": [
      "100%|████████████████████████████████████████████████████████████████████| 148/148 [00:41<00:00,  3.54it/s]\n"
     ]
    },
    {
     "name": "stdout",
     "output_type": "stream",
     "text": [
      "start: 7208883627793370400  count: 94  total:3321.48  average(1000):11.65\n"
     ]
    },
    {
     "name": "stderr",
     "output_type": "stream",
     "text": [
      "100%|████████████████████████████████████████████████████████████████████| 148/148 [00:40<00:00,  3.64it/s]\n"
     ]
    },
    {
     "name": "stdout",
     "output_type": "stream",
     "text": [
      "start: 7209148133241064742  count: 95  total:3363.17  average(1000):11.68\n"
     ]
    },
    {
     "name": "stderr",
     "output_type": "stream",
     "text": [
      "100%|████████████████████████████████████████████████████████████████████| 147/147 [00:40<00:00,  3.59it/s]\n"
     ]
    },
    {
     "name": "stdout",
     "output_type": "stream",
     "text": [
      "start: 7209291840007179580  count: 96  total:3405.34  average(1000):11.70\n"
     ]
    },
    {
     "name": "stderr",
     "output_type": "stream",
     "text": [
      "100%|████████████████████████████████████████████████████████████████████| 147/147 [00:41<00:00,  3.57it/s]\n"
     ]
    },
    {
     "name": "stdout",
     "output_type": "stream",
     "text": [
      "start: 7209569748089179424  count: 97  total:3447.56  average(1000):11.73\n"
     ]
    },
    {
     "name": "stderr",
     "output_type": "stream",
     "text": [
      "100%|████████████████████████████████████████████████████████████████████| 147/147 [00:40<00:00,  3.60it/s]\n"
     ]
    },
    {
     "name": "stdout",
     "output_type": "stream",
     "text": [
      "start: 7209841993340570912  count: 98  total:3489.48  average(1000):11.75\n"
     ]
    },
    {
     "name": "stderr",
     "output_type": "stream",
     "text": [
      "100%|████████████████████████████████████████████████████████████████████| 148/148 [00:40<00:00,  3.61it/s]\n"
     ]
    },
    {
     "name": "stdout",
     "output_type": "stream",
     "text": [
      "start: 7209969625205902596  count: 99  total:3531.54  average(1000):11.77\n"
     ]
    },
    {
     "name": "stderr",
     "output_type": "stream",
     "text": [
      "100%|████████████████████████████████████████████████████████████████████| 148/148 [00:41<00:00,  3.60it/s]\n"
     ]
    },
    {
     "name": "stdout",
     "output_type": "stream",
     "text": [
      "start: 7210225996405034279  count: 100  total:3574.10  average(1000):11.80\n"
     ]
    },
    {
     "name": "stderr",
     "output_type": "stream",
     "text": [
      "100%|████████████████████████████████████████████████████████████████████| 148/148 [00:40<00:00,  3.62it/s]\n"
     ]
    },
    {
     "name": "stdout",
     "output_type": "stream",
     "text": [
      "start: 7210343613975383330  count: 101  total:3616.17  average(1000):11.82\n"
     ]
    },
    {
     "name": "stderr",
     "output_type": "stream",
     "text": [
      "100%|████████████████████████████████████████████████████████████████████| 148/148 [00:41<00:00,  3.58it/s]\n"
     ]
    },
    {
     "name": "stdout",
     "output_type": "stream",
     "text": [
      "start: 7210605484586421544  count: 102  total:3658.91  average(1000):11.84\n"
     ]
    },
    {
     "name": "stderr",
     "output_type": "stream",
     "text": [
      "100%|████████████████████████████████████████████████████████████████████| 148/148 [00:40<00:00,  3.63it/s]\n"
     ]
    },
    {
     "name": "stdout",
     "output_type": "stream",
     "text": [
      "start: 7210729829870619964  count: 103  total:3700.97  average(1000):11.86\n"
     ]
    },
    {
     "name": "stderr",
     "output_type": "stream",
     "text": [
      "100%|████████████████████████████████████████████████████████████████████| 148/148 [00:36<00:00,  4.09it/s]\n"
     ]
    },
    {
     "name": "stdout",
     "output_type": "stream",
     "text": [
      "start: 7210982315663691064  count: 104  total:3738.48  average(1000):11.87\n"
     ]
    },
    {
     "name": "stderr",
     "output_type": "stream",
     "text": [
      "100%|████████████████████████████████████████████████████████████████████| 149/149 [00:41<00:00,  3.63it/s]\n"
     ]
    },
    {
     "name": "stdout",
     "output_type": "stream",
     "text": [
      "start: 7211083894232288569  count: 105  total:3781.14  average(1000):11.89\n"
     ]
    },
    {
     "name": "stderr",
     "output_type": "stream",
     "text": [
      "100%|████████████████████████████████████████████████████████████████████| 148/148 [00:40<00:00,  3.66it/s]\n"
     ]
    },
    {
     "name": "stdout",
     "output_type": "stream",
     "text": [
      "start: 7211297903728512293  count: 106  total:3822.55  average(1000):11.91\n"
     ]
    },
    {
     "name": "stderr",
     "output_type": "stream",
     "text": [
      "100%|████████████████████████████████████████████████████████████████████| 149/149 [00:41<00:00,  3.63it/s]\n"
     ]
    },
    {
     "name": "stdout",
     "output_type": "stream",
     "text": [
      "start: 7211409877426588966  count: 107  total:3865.91  average(1000):11.93\n"
     ]
    },
    {
     "name": "stderr",
     "output_type": "stream",
     "text": [
      "100%|████████████████████████████████████████████████████████████████████| 148/148 [00:39<00:00,  3.75it/s]\n"
     ]
    },
    {
     "name": "stdout",
     "output_type": "stream",
     "text": [
      "start: 7211514334642490635  count: 108  total:3906.82  average(1000):11.95\n"
     ]
    },
    {
     "name": "stderr",
     "output_type": "stream",
     "text": [
      "100%|████████████████████████████████████████████████████████████████████| 148/148 [00:41<00:00,  3.53it/s]\n"
     ]
    },
    {
     "name": "stdout",
     "output_type": "stream",
     "text": [
      "start: 7211768691157896460  count: 109  total:3950.24  average(1000):11.97\n"
     ]
    },
    {
     "name": "stderr",
     "output_type": "stream",
     "text": [
      "100%|████████████████████████████████████████████████████████████████████| 148/148 [00:40<00:00,  3.65it/s]\n"
     ]
    },
    {
     "name": "stdout",
     "output_type": "stream",
     "text": [
      "start: 7211916075137551627  count: 110  total:3992.07  average(1000):11.99\n"
     ]
    },
    {
     "name": "stderr",
     "output_type": "stream",
     "text": [
      "100%|████████████████████████████████████████████████████████████████████| 149/149 [00:40<00:00,  3.66it/s]\n"
     ]
    },
    {
     "name": "stdout",
     "output_type": "stream",
     "text": [
      "start: 7212174052738256143  count: 111  total:4033.88  average(1000):12.01\n"
     ]
    },
    {
     "name": "stderr",
     "output_type": "stream",
     "text": [
      "100%|████████████████████████████████████████████████████████████████████| 147/147 [00:40<00:00,  3.60it/s]\n"
     ]
    },
    {
     "name": "stdout",
     "output_type": "stream",
     "text": [
      "start: 7212440004516187395  count: 112  total:4076.21  average(1000):12.02\n"
     ]
    },
    {
     "name": "stderr",
     "output_type": "stream",
     "text": [
      "100%|████████████████████████████████████████████████████████████████████| 148/148 [00:41<00:00,  3.60it/s]\n"
     ]
    },
    {
     "name": "stdout",
     "output_type": "stream",
     "text": [
      "start: 7212567809170230586  count: 113  total:4118.51  average(1000):12.04\n"
     ]
    },
    {
     "name": "stderr",
     "output_type": "stream",
     "text": [
      "100%|████████████████████████████████████████████████████████████████████| 148/148 [00:39<00:00,  3.71it/s]\n"
     ]
    },
    {
     "name": "stdout",
     "output_type": "stream",
     "text": [
      "start: 7212828839217532221  count: 114  total:4159.72  average(1000):12.06\n"
     ]
    },
    {
     "name": "stderr",
     "output_type": "stream",
     "text": [
      "100%|████████████████████████████████████████████████████████████████████| 148/148 [00:40<00:00,  3.66it/s]\n"
     ]
    },
    {
     "name": "stdout",
     "output_type": "stream",
     "text": [
      "start: 7212953901992086823  count: 115  total:4201.43  average(1000):12.07\n"
     ]
    },
    {
     "name": "stderr",
     "output_type": "stream",
     "text": [
      "100%|████████████████████████████████████████████████████████████████████| 148/148 [00:40<00:00,  3.65it/s]\n"
     ]
    },
    {
     "name": "stdout",
     "output_type": "stream",
     "text": [
      "start: 7213207524592389408  count: 116  total:4243.09  average(1000):12.09\n"
     ]
    },
    {
     "name": "stderr",
     "output_type": "stream",
     "text": [
      "100%|████████████████████████████████████████████████████████████████████| 148/148 [00:40<00:00,  3.68it/s]\n"
     ]
    },
    {
     "name": "stdout",
     "output_type": "stream",
     "text": [
      "start: 7213334677979942182  count: 117  total:4284.46  average(1000):12.10\n"
     ]
    },
    {
     "name": "stderr",
     "output_type": "stream",
     "text": [
      "100%|████████████████████████████████████████████████████████████████████| 148/148 [00:41<00:00,  3.59it/s]\n"
     ]
    },
    {
     "name": "stdout",
     "output_type": "stream",
     "text": [
      "start: 7213603049346960678  count: 118  total:4326.89  average(1000):12.12\n"
     ]
    },
    {
     "name": "stderr",
     "output_type": "stream",
     "text": [
      "100%|████████████████████████████████████████████████████████████████████| 148/148 [00:39<00:00,  3.71it/s]\n"
     ]
    },
    {
     "name": "stdout",
     "output_type": "stream",
     "text": [
      "start: 7213734813667282208  count: 119  total:4368.28  average(1000):12.13\n"
     ]
    },
    {
     "name": "stderr",
     "output_type": "stream",
     "text": [
      "100%|████████████████████████████████████████████████████████████████████| 148/148 [00:40<00:00,  3.64it/s]\n"
     ]
    },
    {
     "name": "stdout",
     "output_type": "stream",
     "text": [
      "start: 7213999098356108583  count: 120  total:4409.99  average(1000):12.15\n"
     ]
    },
    {
     "name": "stderr",
     "output_type": "stream",
     "text": [
      "100%|████████████████████████████████████████████████████████████████████| 147/147 [00:40<00:00,  3.61it/s]\n"
     ]
    },
    {
     "name": "stdout",
     "output_type": "stream",
     "text": [
      "start: 7214150396644740352  count: 121  total:4452.15  average(1000):12.16\n"
     ]
    },
    {
     "name": "stderr",
     "output_type": "stream",
     "text": [
      "100%|████████████████████████████████████████████████████████████████████| 148/148 [00:40<00:00,  3.69it/s]\n"
     ]
    },
    {
     "name": "stdout",
     "output_type": "stream",
     "text": [
      "start: 7214394557507603746  count: 122  total:4493.35  average(1000):12.18\n"
     ]
    },
    {
     "name": "stderr",
     "output_type": "stream",
     "text": [
      "100%|████████████████████████████████████████████████████████████████████| 148/148 [00:40<00:00,  3.62it/s]\n"
     ]
    },
    {
     "name": "stdout",
     "output_type": "stream",
     "text": [
      "start: 7214651827575475517  count: 123  total:4535.36  average(1000):12.19\n"
     ]
    },
    {
     "name": "stderr",
     "output_type": "stream",
     "text": [
      "100%|████████████████████████████████████████████████████████████████████| 148/148 [00:40<00:00,  3.66it/s]\n"
     ]
    },
    {
     "name": "stdout",
     "output_type": "stream",
     "text": [
      "start: 7214804080231845177  count: 124  total:4576.96  average(1000):12.21\n"
     ]
    },
    {
     "name": "stderr",
     "output_type": "stream",
     "text": [
      "100%|████████████████████████████████████████████████████████████████████| 149/149 [00:40<00:00,  3.69it/s]\n"
     ]
    },
    {
     "name": "stdout",
     "output_type": "stream",
     "text": [
      "start: 7215071067973438754  count: 125  total:4618.49  average(1000):12.22\n"
     ]
    },
    {
     "name": "stderr",
     "output_type": "stream",
     "text": [
      "100%|████████████████████████████████████████████████████████████████████| 148/148 [00:41<00:00,  3.60it/s]\n"
     ]
    },
    {
     "name": "stdout",
     "output_type": "stream",
     "text": [
      "start: 7215194588959477051  count: 126  total:4660.75  average(1000):12.23\n"
     ]
    },
    {
     "name": "stderr",
     "output_type": "stream",
     "text": [
      "100%|████████████████████████████████████████████████████████████████████| 149/149 [00:41<00:00,  3.61it/s]\n"
     ]
    },
    {
     "name": "stdout",
     "output_type": "stream",
     "text": [
      "start: 7215449413638982924  count: 127  total:4703.57  average(1000):12.25\n"
     ]
    },
    {
     "name": "stderr",
     "output_type": "stream",
     "text": [
      "100%|████████████████████████████████████████████████████████████████████| 148/148 [00:40<00:00,  3.68it/s]\n"
     ]
    },
    {
     "name": "stdout",
     "output_type": "stream",
     "text": [
      "start: 7215570617393777959  count: 128  total:4745.01  average(1000):12.26\n"
     ]
    },
    {
     "name": "stderr",
     "output_type": "stream",
     "text": [
      "100%|████████████████████████████████████████████████████████████████████| 148/148 [00:40<00:00,  3.66it/s]\n"
     ]
    },
    {
     "name": "stdout",
     "output_type": "stream",
     "text": [
      "start: 7215833616578891008  count: 129  total:4786.63  average(1000):12.27\n"
     ]
    },
    {
     "name": "stderr",
     "output_type": "stream",
     "text": [
      "100%|████████████████████████████████████████████████████████████████████| 148/148 [00:41<00:00,  3.57it/s]\n"
     ]
    },
    {
     "name": "stdout",
     "output_type": "stream",
     "text": [
      "start: 7215957110843100472  count: 130  total:4829.43  average(1000):12.29\n"
     ]
    },
    {
     "name": "stderr",
     "output_type": "stream",
     "text": [
      "100%|████████████████████████████████████████████████████████████████████| 149/149 [00:41<00:00,  3.60it/s]\n"
     ]
    },
    {
     "name": "stdout",
     "output_type": "stream",
     "text": [
      "start: 7216202270180920611  count: 131  total:4871.87  average(1000):12.30\n"
     ]
    },
    {
     "name": "stderr",
     "output_type": "stream",
     "text": [
      "100%|████████████████████████████████████████████████████████████████████| 149/149 [00:40<00:00,  3.68it/s]\n"
     ]
    },
    {
     "name": "stdout",
     "output_type": "stream",
     "text": [
      "start: 7216311575571860768  count: 132  total:4913.63  average(1000):12.31\n"
     ]
    },
    {
     "name": "stderr",
     "output_type": "stream",
     "text": [
      "100%|████████████████████████████████████████████████████████████████████| 149/149 [00:40<00:00,  3.64it/s]\n"
     ]
    },
    {
     "name": "stdout",
     "output_type": "stream",
     "text": [
      "start: 7216552286611426593  count: 133  total:4955.75  average(1000):12.33\n"
     ]
    },
    {
     "name": "stderr",
     "output_type": "stream",
     "text": [
      "100%|████████████████████████████████████████████████████████████████████| 149/149 [00:38<00:00,  3.82it/s]\n"
     ]
    },
    {
     "name": "stdout",
     "output_type": "stream",
     "text": [
      "start: 7216656692774178080  count: 134  total:4996.19  average(1000):12.34\n"
     ]
    },
    {
     "name": "stderr",
     "output_type": "stream",
     "text": [
      "100%|██████████████████████████████████████████████████████████████████████| 58/58 [00:13<00:00,  4.25it/s]\n"
     ]
    }
   ],
   "source": [
    "res = []\n",
    "taskorder = [14,3,2,1]\n",
    "\n",
    "def dy_callback(data):\n",
    "    awmids = [str(x[0]) for x in data]\n",
    "    if not awmids:\n",
    "        return\n",
    "    multi_data = get_data(awmids, multi_tasks = multi_tasks, category=cat)\n",
    "    \n",
    "    rawtxt = []\n",
    "    for aweme_id, all_data in multi_data.items():\n",
    "        txtflag = 0\n",
    "        for task in taskorder:\n",
    "            if task in all_data:\n",
    "                data_list = all_data[task]\n",
    "                tt = ','.join([text_normalize(txt) for txt, *info in data_list])\n",
    "                if tt and count_chars(tt)>0.5 and len(tt)>20:\n",
    "                    rawtxt.append((aweme_id, task, tt))\n",
    "                    txtflag = 1\n",
    "                    break\n",
    "        if not txtflag:\n",
    "            res.append([aweme_id, 0, -1, 0])\n",
    "\n",
    "    data_length = len(rawtxt)\n",
    "    batch_size = 20\n",
    "    num_batches = -(-data_length // batch_size)\n",
    "\n",
    "    for batch_data in tqdm(gpt_utils.load_data(rawtxt, batch_size), total=num_batches):\n",
    "        txts = [x[2] for x in batch_data]\n",
    "        result = cls(txts)\n",
    "        for bb, rr in zip(batch_data, result):\n",
    "            res.append(list(bb)[:2]+[labeltoid[rr['predictions'][0]['label']], int(rr['predictions'][0]['score']*100000000)])\n",
    "\n",
    "sql = f'''\n",
    "select aweme_id\n",
    "from {awm_tbl}\n",
    "where {start_condition} and {end_condition}\n",
    "and aweme_id>%d\n",
    "order by aweme_id\n",
    "limit %d;\n",
    "'''\n",
    "utils.easy_traverse(dy2, sql, dy_callback, 0, 3000, print_sql=False)"
   ]
  },
  {
   "cell_type": "code",
   "execution_count": 11,
   "id": "280e3379",
   "metadata": {},
   "outputs": [
    {
     "data": {
      "text/plain": [
       "[7183343151527038223, 0, -1, 0]"
      ]
     },
     "execution_count": 11,
     "metadata": {},
     "output_type": "execute_result"
    }
   ],
   "source": [
    "res[0]"
   ]
  },
  {
   "cell_type": "code",
   "execution_count": 12,
   "id": "506a5c6a",
   "metadata": {},
   "outputs": [
    {
     "name": "stdout",
     "output_type": "stream",
     "text": [
      "insert  ignore  into  douyin2_cleaner.awms_douyin_result_2000008  success count: 406159\n"
     ]
    }
   ],
   "source": [
    "utils.easy_batch(dy2, awm_rlt_tbl, rlt_cols, res, ignore=True)"
   ]
  },
  {
   "cell_type": "code",
   "execution_count": null,
   "id": "bb1d3410",
   "metadata": {},
   "outputs": [],
   "source": []
  },
  {
   "cell_type": "code",
   "execution_count": null,
   "id": "50f27657",
   "metadata": {},
   "outputs": [],
   "source": []
  }
 ],
 "metadata": {
  "kernelspec": {
   "display_name": "Python 3 (ipykernel)",
   "language": "python",
   "name": "python3"
  },
  "language_info": {
   "codemirror_mode": {
    "name": "ipython",
    "version": 3
   },
   "file_extension": ".py",
   "mimetype": "text/x-python",
   "name": "python",
   "nbconvert_exporter": "python",
   "pygments_lexer": "ipython3",
   "version": "3.7.15"
  }
 },
 "nbformat": 4,
 "nbformat_minor": 5
}
